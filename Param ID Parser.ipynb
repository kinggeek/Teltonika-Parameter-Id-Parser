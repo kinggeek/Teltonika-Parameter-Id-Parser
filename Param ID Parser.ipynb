{
 "cells": [
  {
   "cell_type": "markdown",
   "id": "c4275704",
   "metadata": {},
   "source": [
    "# Teltonika Data Sending Parameter ID Parser\n",
    "\n",
    "## Panagiotis Kalogeropoulos, OpenRemote\n",
    "## panos.kalogeropoulos@openremote.io\n",
    "\n",
    "This Jupyter Notebook helps parse the Teltonika-GPS Wiki page for the data sending parameter IDs into a Pandas dataframe, which can then be exported into various types, like Excel or JSON. \n",
    "\n",
    "By parsing the table into programmatically accessible data, we are able to programmatically determine what parameter each Teltonika device is talking about. In this way, we can easily generalize to the entire line of Teltonika GPS Trackers.\n",
    "\n",
    "In OpenRemote, this script will be used to automatically map parameters sent over by any Teltonika device into the correct attribute."
   ]
  },
  {
   "cell_type": "markdown",
   "id": "63c6a8ed",
   "metadata": {},
   "source": [
    "# Import required packages"
   ]
  },
  {
   "cell_type": "code",
   "execution_count": 43,
   "id": "b39a1a9f",
   "metadata": {},
   "outputs": [],
   "source": [
    "import pandas"
   ]
  },
  {
   "cell_type": "markdown",
   "id": "4b449b80",
   "metadata": {},
   "source": [
    "# Set Variables"
   ]
  },
  {
   "cell_type": "code",
   "execution_count": 44,
   "id": "dc5ca9d2",
   "metadata": {},
   "outputs": [],
   "source": [
    "device = \"FMC003\"\n",
    "url=\"https://wiki.teltonika-gps.com/view/\"+device+\"_Teltonika_Data_Sending_Parameters_ID\""
   ]
  },
  {
   "cell_type": "markdown",
   "id": "ecfebc7f",
   "metadata": {},
   "source": [
    "# Download HTML of URL and parse into DataFrames"
   ]
  },
  {
   "cell_type": "code",
   "execution_count": 45,
   "id": "9c7564e1",
   "metadata": {},
   "outputs": [],
   "source": [
    "dfList = pandas.read_html(url, header=1, encoding='utf-8')"
   ]
  },
  {
   "cell_type": "markdown",
   "id": "fe780ccd",
   "metadata": {},
   "source": [
    "# Adjust DataFrames to export\n",
    "\n",
    "Specifically, the page contains multiple tables, for example \"Permanent I/O Elements\", \"Eventual I/O elements\", etc.\n",
    "\n",
    "Thus, by combining the tables, we gather a singular table with the Parameter Group column guaranteeing no data loss from the concatenation."
   ]
  },
  {
   "cell_type": "code",
   "execution_count": 46,
   "id": "47d0d89b",
   "metadata": {
    "scrolled": false
   },
   "outputs": [],
   "source": [
    "# Make copy of dataframes\n",
    "df_copy = dfList.copy()\n",
    "\n",
    "# Concatenate all dataframes into one mega-dataframe\n",
    "megaDf = pandas.concat(df_copy)\n",
    "# Drop the index that was automatically inserted\n",
    "megaDf.reset_index(drop=True, inplace=True)\n",
    "# Set the index to be the parameter ID, which we know is unique\n",
    "megaDf = megaDf.set_index(\"Property ID in AVL packet\")"
   ]
  },
  {
   "cell_type": "markdown",
   "id": "53329499",
   "metadata": {},
   "source": [
    "# Export to files\n",
    "\n",
    "Look into the pandas documentation for other export types."
   ]
  },
  {
   "cell_type": "code",
   "execution_count": 47,
   "id": "0a6d4f0e",
   "metadata": {},
   "outputs": [],
   "source": [
    "megaDf.to_excel(device+\".xlsx\")\n",
    "# Dealing with Unicode errors\n",
    "with open(device+\".json\", 'w', encoding='utf-8') as file:\n",
    "    megaDf.to_json(file, force_ascii=False, orient=\"records\")"
   ]
  }
 ],
 "metadata": {
  "kernelspec": {
   "display_name": "Python 3 (ipykernel)",
   "language": "python",
   "name": "python3"
  },
  "language_info": {
   "codemirror_mode": {
    "name": "ipython",
    "version": 3
   },
   "file_extension": ".py",
   "mimetype": "text/x-python",
   "name": "python",
   "nbconvert_exporter": "python",
   "pygments_lexer": "ipython3",
   "version": "3.11.5"
  }
 },
 "nbformat": 4,
 "nbformat_minor": 5
}
